{
 "cells": [
  {
   "cell_type": "markdown",
   "metadata": {},
   "source": [
    "<H2>Simple Coding Exercises</H2>\n",
    "<hr>\n",
    "Exercises from <a href = \"https://adriann.github.io/programming_problems.html\"> here.</a>"
   ]
  },
  {
   "cell_type": "code",
   "execution_count": 1,
   "metadata": {},
   "outputs": [
    {
     "name": "stdout",
     "output_type": "stream",
     "text": [
      "Hello World!\n"
     ]
    }
   ],
   "source": [
    "# 1. Write a program that prints \"Hello World\" to the screen.\n",
    "def Hello_World():\n",
    "    print(\"Hello World!\")\n",
    "Hello_World()"
   ]
  },
  {
   "cell_type": "code",
   "execution_count": 3,
   "metadata": {},
   "outputs": [
    {
     "name": "stdout",
     "output_type": "stream",
     "text": [
      "Username:Alex\n"
     ]
    },
    {
     "data": {
      "text/plain": [
       "'Hello, Alex!'"
      ]
     },
     "execution_count": 3,
     "metadata": {},
     "output_type": "execute_result"
    }
   ],
   "source": [
    "# 2. Write a program that asks the user for their name and greets them with their name.\n",
    "def Hello_user():\n",
    "    username= input(\"Username:\")\n",
    "    return(f\"Hello, {username}!\")\n",
    "Hello_user()"
   ]
  },
  {
   "cell_type": "code",
   "execution_count": 12,
   "metadata": {},
   "outputs": [
    {
     "name": "stdout",
     "output_type": "stream",
     "text": [
      "Username: Alice\n"
     ]
    },
    {
     "data": {
      "text/plain": [
       "'Hello, Alice!'"
      ]
     },
     "execution_count": 12,
     "metadata": {},
     "output_type": "execute_result"
    }
   ],
   "source": [
    "# 3. Modify the previous program such that only the users Alice and Bob are greeted with their names.\n",
    "def Hello_Alice_or_Bob():\n",
    "    username= input(\"Username: \")\n",
    "    if username == (\"Alice\" or \"Bob\"):\n",
    "        return(f\"Hello, {username}!\")\n",
    "    else:\n",
    "        return(\"I don't want to say hello to you right now. Sorry, bye.\")\n",
    "Hello_Alice_or_Bob()"
   ]
  },
  {
   "cell_type": "code",
   "execution_count": 19,
   "metadata": {},
   "outputs": [
    {
     "name": "stdout",
     "output_type": "stream",
     "text": [
      "Please enter a number here: 4\n"
     ]
    },
    {
     "data": {
      "text/plain": [
       "'This is the sum of numbers 1 to 4: 10'"
      ]
     },
     "execution_count": 19,
     "metadata": {},
     "output_type": "execute_result"
    }
   ],
   "source": [
    "# 4. Write a program that asks the user for a number n and prints the sum of the numbers 1 to n\n",
    "def sum_to_n():\n",
    "    n = int(input(\"Please enter a number here: \"))\n",
    "    total=0\n",
    "    i=0\n",
    "    while i <= n:\n",
    "        total = total + i\n",
    "        i+=1\n",
    "    return(f\"This is the sum of numbers 1 to {n}: {total}\")\n",
    "sum_to_n()"
   ]
  },
  {
   "cell_type": "code",
   "execution_count": 24,
   "metadata": {},
   "outputs": [
    {
     "name": "stdout",
     "output_type": "stream",
     "text": [
      "Please enter a number here: 5\n"
     ]
    },
    {
     "data": {
      "text/plain": [
       "'This is the sum of numbers from 1 to 5 that are divisible by 3 or 5: 8'"
      ]
     },
     "execution_count": 24,
     "metadata": {},
     "output_type": "execute_result"
    }
   ],
   "source": [
    "# 5. Modify the previous program such that only multiples of three or five are considered in the sum, e.g. 3, 5, 6, 9, 10, 12, 15 for n=17\n",
    "def sum_to_n_if_3and5_divisible():\n",
    "    n = int(input(\"Please enter a number here: \"))\n",
    "    total=0\n",
    "    i=0\n",
    "    while i <= n:\n",
    "        if i%3 == 0 or i%5 == 0:\n",
    "            total = total + i\n",
    "            i+=1\n",
    "        else:\n",
    "            i+=1\n",
    "    return(f\"This is the sum of numbers from 1 to {n} that are divisible by 3 or 5: {total}\")\n",
    "sum_to_n_if_3and5_divisible()"
   ]
  },
  {
   "cell_type": "code",
   "execution_count": 56,
   "metadata": {},
   "outputs": [
    {
     "name": "stdout",
     "output_type": "stream",
     "text": [
      "Would you like to take the sum or the product? (S/P): P\n",
      "Please enter a number here: 9\n"
     ]
    },
    {
     "data": {
      "text/plain": [
       "'This is the product of numbers 1 to 9: 362880'"
      ]
     },
     "execution_count": 56,
     "metadata": {},
     "output_type": "execute_result"
    }
   ],
   "source": [
    "# 6. Write a program that asks the user for a number n and gives them the possibility to choose between computing the sum and computing the product of 1,…,n.\n",
    "def sum_or_product():\n",
    "    choice_operation = input(\"Would you like to take the sum or the product? (S/P): \")\n",
    "    n = int(input(\"Please enter a number here: \"))\n",
    "    if choice_operation == \"S\":\n",
    "        total=0\n",
    "        i=0\n",
    "        while i <= n:\n",
    "            total = total + i\n",
    "            i+=1\n",
    "        return(f\"This is the sum of numbers 1 to {n}: {total}\")\n",
    "    elif choice_operation == \"P\":\n",
    "        product = 1\n",
    "        i = 1\n",
    "        while i <= n:\n",
    "            product = product*i\n",
    "            i+=1\n",
    "        return(f\"This is the product of numbers 1 to {n}: {product}\")\n",
    "    else:\n",
    "        print(\"This is not an available operation, please review the options and try again.\")\n",
    "sum_or_product()"
   ]
  },
  {
   "cell_type": "code",
   "execution_count": 62,
   "metadata": {},
   "outputs": [
    {
     "name": "stdout",
     "output_type": "stream",
     "text": [
      "Please enter a positive integer from 1 to 12: 12\n",
      "     1      2      3      4      5      6      7      8      9     10     11     12\n",
      "     2      4      6      8     10     12     14     16     18     20     22     24\n",
      "     3      6      9     12     15     18     21     24     27     30     33     36\n",
      "     4      8     12     16     20     24     28     32     36     40     44     48\n",
      "     5     10     15     20     25     30     35     40     45     50     55     60\n",
      "     6     12     18     24     30     36     42     48     54     60     66     72\n",
      "     7     14     21     28     35     42     49     56     63     70     77     84\n",
      "     8     16     24     32     40     48     56     64     72     80     88     96\n",
      "     9     18     27     36     45     54     63     72     81     90     99    108\n",
      "    10     20     30     40     50     60     70     80     90    100    110    120\n",
      "    11     22     33     44     55     66     77     88     99    110    121    132\n",
      "    12     24     36     48     60     72     84     96    108    120    132    144\n"
     ]
    }
   ],
   "source": [
    "# 7. Write a program that prints a multiplication table for numbers up to 12.\n",
    "def multiplication_table_12():\n",
    "    n = int(input(\"Please enter a positive integer from 1 to 12: \"))\n",
    "    for row in range(1, n+1):\n",
    "        print(*(\"{:6}\".format(row*col) for col in range(1, n+1)))\n",
    "multiplication_table_12()"
   ]
  },
  {
   "cell_type": "code",
   "execution_count": 12,
   "metadata": {},
   "outputs": [
    {
     "name": "stdout",
     "output_type": "stream",
     "text": [
      "All the following numbers are smaller than  25 :  [2, 3, 5, 7, 11, 13, 17, 19, 23]\n"
     ]
    }
   ],
   "source": [
    "# 8. Write a program that prints all prime numbers. (Note: if your programming language does not support arbitrary size numbers, printing all primes up to the largest number you can easily represent is fine too.)\n",
    "# if you want to have the user define the range from which to generate the numbers\n",
    "def primenumbers(n):\n",
    "    #create a boolean array \"prime[0..n]\" and initialize all entries as true\n",
    "    #a value in prime[i] will finally be false in i is not a prime, else true.\n",
    "    primenumbers = []\n",
    "    prime = [True for i in range(n+1)]\n",
    "    p = 2\n",
    "    while (p*p <= n):\n",
    "        #if prime[p] is not changed, then it is a prime\n",
    "        if (prime[p] ==True):\n",
    "            #update all multiples of p\n",
    "            for i in range(p*p, n+1, p):\n",
    "                prime[i] = False\n",
    "        p += 1\n",
    "    #print all prime numbers\n",
    "    for p in range(2, n+1):\n",
    "        if prime[p]:\n",
    "            primenumbers.append(p)\n",
    "    print(f\"All the following numbers are smaller than \", n, \": \", primenumbers)\n",
    "\n",
    "primenumbers(25)          "
   ]
  },
  {
   "cell_type": "code",
   "execution_count": 28,
   "metadata": {},
   "outputs": [
    {
     "name": "stdout",
     "output_type": "stream",
     "text": [
      "Would you like to play a guessing game? [Y/N] Y\n",
      "Yay! Guess what number I am thinking of! 25\n",
      "Wow! You're a good guesser!\n",
      "It only took you  1 guess(es)\n"
     ]
    }
   ],
   "source": [
    "def guessinggame():\n",
    "    challenge = input(\"Would you like to play a guessing game? [Y/N] \")\n",
    "    if challenge == \"Y\":\n",
    "        target = 25\n",
    "        guesses = []\n",
    "        numberguess = 0\n",
    "        guess = int(input(\"Yay! Guess what number I am thinking of! \"))\n",
    "        while guess != target:\n",
    "            if guess <= target:\n",
    "                if guess not in guesses:\n",
    "                    print(\"Oh no! You're guess was too low\")\n",
    "                    guesses.append(guess)\n",
    "                    guess = int(input(\"Guess! \"))\n",
    "                else:\n",
    "                    numberguess += 1\n",
    "                    print(\"You already guessed that, silly! Try a different number!\")\n",
    "                    guess = int(input(\"Guess! \"))\n",
    "            elif guess >= target:\n",
    "                if guess not in guesses:\n",
    "                    print(\"Oh no! You're guess was too high\")\n",
    "                    guesses.append(guess)\n",
    "                    guess = int(input(\"Guess! \"))\n",
    "                else:\n",
    "                    numberguess += 1\n",
    "                    print(\"No! No! No! You have to guess a different number!\")\n",
    "                    guess = int(input(\"Guess! \"))\n",
    "        numberguess +=1\n",
    "        print(\"Wow! You're a good guesser!\")\n",
    "        print(f\"It only took you \", numberguess, \"guess(es)\")\n",
    "\n",
    "    else:\n",
    "        print(\"Sorry, we won't play then. Goodbye!\")\n",
    "guessinggame()"
   ]
  },
  {
   "cell_type": "code",
   "execution_count": null,
   "metadata": {},
   "outputs": [],
   "source": []
  }
 ],
 "metadata": {
  "kernelspec": {
   "display_name": "Python 3",
   "language": "python",
   "name": "python3"
  },
  "language_info": {
   "codemirror_mode": {
    "name": "ipython",
    "version": 3
   },
   "file_extension": ".py",
   "mimetype": "text/x-python",
   "name": "python",
   "nbconvert_exporter": "python",
   "pygments_lexer": "ipython3",
   "version": "3.7.7"
  }
 },
 "nbformat": 4,
 "nbformat_minor": 4
}
